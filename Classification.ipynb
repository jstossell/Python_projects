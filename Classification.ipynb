{
 "cells": [
  {
   "cell_type": "markdown",
   "id": "02367634",
   "metadata": {},
   "source": [
    "# Second Assignment\n",
    "\n",
    "The goal of this assignment is to use the iris dataset to train a classifier in asupervised fashion and a clusterer in unsupervised fashion.\n",
    "\n",
    "**Deadline: To Be Confirmed by the Tutor**. \n",
    "\n",
    "**Submission:** Please email your solutions and your completed Declaration of Authorship (DoA) form to weeklyclasses@conted.ox.ac.uk "
   ]
  },
  {
   "cell_type": "markdown",
   "id": "28e3e612",
   "metadata": {},
   "source": [
    "## Setup"
   ]
  },
  {
   "cell_type": "code",
   "execution_count": 1,
   "id": "ce33580a",
   "metadata": {},
   "outputs": [],
   "source": [
    "# Python ≥3.8 is required\n",
    "import sys\n",
    "assert sys.version_info >= (3, 8)\n",
    "\n",
    "# Scikit-Learn ≥ 1.0 is required\n",
    "import sklearn\n",
    "assert sklearn.__version__ >= \"1.0\"\n",
    "\n",
    "# Common imports\n",
    "import numpy as np\n",
    "import pandas as pd\n",
    "import os\n",
    "\n",
    "# To plot pretty figures\n",
    "%matplotlib inline\n",
    "import matplotlib as mpl\n",
    "import matplotlib.pyplot as plt\n",
    "mpl.rc('axes', labelsize=14)\n",
    "mpl.rc('xtick', labelsize=12)\n",
    "mpl.rc('ytick', labelsize=12)\n",
    "\n",
    "# Precision options\n",
    "np.set_printoptions(precision=2)\n",
    "pd.options.display.float_format = '{:.3f}'.format"
   ]
  },
  {
   "cell_type": "markdown",
   "id": "a3e371b3",
   "metadata": {},
   "source": [
    "### Import data and training test split\n",
    "\n",
    "Let's import the iris dataset first."
   ]
  },
  {
   "cell_type": "code",
   "execution_count": 2,
   "id": "fa409f7f",
   "metadata": {},
   "outputs": [
    {
     "data": {
      "text/plain": [
       "dict_keys(['data', 'target', 'frame', 'target_names', 'DESCR', 'feature_names', 'filename', 'data_module'])"
      ]
     },
     "execution_count": 2,
     "metadata": {},
     "output_type": "execute_result"
    }
   ],
   "source": [
    "from sklearn.datasets import load_iris\n",
    "iris = load_iris()\n",
    "iris.keys()"
   ]
  },
  {
   "cell_type": "markdown",
   "id": "6e033b0a",
   "metadata": {},
   "source": [
    "### Train-test splitting (3 points)\n",
    "\n",
    "As a first step let's split the dataset into training (2/3 of the data) and test set (1/3 of the data)"
   ]
  },
  {
   "cell_type": "code",
   "execution_count": 3,
   "id": "81eb4def",
   "metadata": {},
   "outputs": [],
   "source": [
    "# Write your solution here\n",
    "from sklearn.model_selection import train_test_split\n",
    "\n",
    "X, y = iris.data, iris.target\n",
    "X_train, X_test, y_train, y_test = train_test_split(X, y, test_size= 1/3, random_state=77)"
   ]
  },
  {
   "cell_type": "markdown",
   "id": "a1011db4",
   "metadata": {},
   "source": [
    "### Feature scaling (4 points)\n",
    "\n",
    "Then let's perform feature scaling (up to you whether you want to use standardisation or normalisation)"
   ]
  },
  {
   "cell_type": "code",
   "execution_count": 4,
   "id": "e363af25",
   "metadata": {},
   "outputs": [],
   "source": [
    "# Write your solution here: Normalisation\n",
    "from sklearn.preprocessing import MinMaxScaler\n",
    "\n",
    "scaler = MinMaxScaler()\n",
    "\n",
    "X_train = scaler.fit_transform(X_train)\n",
    "X_test = scaler.transform(X_test)"
   ]
  },
  {
   "cell_type": "markdown",
   "id": "21bc85f2",
   "metadata": {},
   "source": [
    "## Part 1: Supervised training using K-Nearest Neighbourse\n",
    "\n",
    "\n",
    "### Model creation (6 points) and training (2 points)\n",
    "\n",
    "Now, evaluate the performance of your classifier using the confusion matrix. Compute and visualize the confusion matrix for our three classes\n",
    "\n",
    "Now, let's create and train a `KNeighborsClassifier`.\n",
    "\n",
    "We want the following properties for our classifier:\n",
    "* check 7 neighbours by default for the `kneighbors` queries.\n",
    "* use the Manhattan distance metric to identify neighbours\n",
    "* use the Ball Tree algortihm to compute the nearest neighbours, with a `leaf_size` of 3. Check the Ball Tree algorithm documentation on scikit-learn for more details.\n",
    "\n",
    "Check the `KNeighborsClassifier` documentation to identify the arguments to pass to the `KNeighborsClassifier` constructor."
   ]
  },
  {
   "cell_type": "code",
   "execution_count": 5,
   "id": "b4a5f061",
   "metadata": {},
   "outputs": [
    {
     "data": {
      "text/html": [
       "<style>#sk-container-id-1 {color: black;}#sk-container-id-1 pre{padding: 0;}#sk-container-id-1 div.sk-toggleable {background-color: white;}#sk-container-id-1 label.sk-toggleable__label {cursor: pointer;display: block;width: 100%;margin-bottom: 0;padding: 0.3em;box-sizing: border-box;text-align: center;}#sk-container-id-1 label.sk-toggleable__label-arrow:before {content: \"▸\";float: left;margin-right: 0.25em;color: #696969;}#sk-container-id-1 label.sk-toggleable__label-arrow:hover:before {color: black;}#sk-container-id-1 div.sk-estimator:hover label.sk-toggleable__label-arrow:before {color: black;}#sk-container-id-1 div.sk-toggleable__content {max-height: 0;max-width: 0;overflow: hidden;text-align: left;background-color: #f0f8ff;}#sk-container-id-1 div.sk-toggleable__content pre {margin: 0.2em;color: black;border-radius: 0.25em;background-color: #f0f8ff;}#sk-container-id-1 input.sk-toggleable__control:checked~div.sk-toggleable__content {max-height: 200px;max-width: 100%;overflow: auto;}#sk-container-id-1 input.sk-toggleable__control:checked~label.sk-toggleable__label-arrow:before {content: \"▾\";}#sk-container-id-1 div.sk-estimator input.sk-toggleable__control:checked~label.sk-toggleable__label {background-color: #d4ebff;}#sk-container-id-1 div.sk-label input.sk-toggleable__control:checked~label.sk-toggleable__label {background-color: #d4ebff;}#sk-container-id-1 input.sk-hidden--visually {border: 0;clip: rect(1px 1px 1px 1px);clip: rect(1px, 1px, 1px, 1px);height: 1px;margin: -1px;overflow: hidden;padding: 0;position: absolute;width: 1px;}#sk-container-id-1 div.sk-estimator {font-family: monospace;background-color: #f0f8ff;border: 1px dotted black;border-radius: 0.25em;box-sizing: border-box;margin-bottom: 0.5em;}#sk-container-id-1 div.sk-estimator:hover {background-color: #d4ebff;}#sk-container-id-1 div.sk-parallel-item::after {content: \"\";width: 100%;border-bottom: 1px solid gray;flex-grow: 1;}#sk-container-id-1 div.sk-label:hover label.sk-toggleable__label {background-color: #d4ebff;}#sk-container-id-1 div.sk-serial::before {content: \"\";position: absolute;border-left: 1px solid gray;box-sizing: border-box;top: 0;bottom: 0;left: 50%;z-index: 0;}#sk-container-id-1 div.sk-serial {display: flex;flex-direction: column;align-items: center;background-color: white;padding-right: 0.2em;padding-left: 0.2em;position: relative;}#sk-container-id-1 div.sk-item {position: relative;z-index: 1;}#sk-container-id-1 div.sk-parallel {display: flex;align-items: stretch;justify-content: center;background-color: white;position: relative;}#sk-container-id-1 div.sk-item::before, #sk-container-id-1 div.sk-parallel-item::before {content: \"\";position: absolute;border-left: 1px solid gray;box-sizing: border-box;top: 0;bottom: 0;left: 50%;z-index: -1;}#sk-container-id-1 div.sk-parallel-item {display: flex;flex-direction: column;z-index: 1;position: relative;background-color: white;}#sk-container-id-1 div.sk-parallel-item:first-child::after {align-self: flex-end;width: 50%;}#sk-container-id-1 div.sk-parallel-item:last-child::after {align-self: flex-start;width: 50%;}#sk-container-id-1 div.sk-parallel-item:only-child::after {width: 0;}#sk-container-id-1 div.sk-dashed-wrapped {border: 1px dashed gray;margin: 0 0.4em 0.5em 0.4em;box-sizing: border-box;padding-bottom: 0.4em;background-color: white;}#sk-container-id-1 div.sk-label label {font-family: monospace;font-weight: bold;display: inline-block;line-height: 1.2em;}#sk-container-id-1 div.sk-label-container {text-align: center;}#sk-container-id-1 div.sk-container {/* jupyter's `normalize.less` sets `[hidden] { display: none; }` but bootstrap.min.css set `[hidden] { display: none !important; }` so we also need the `!important` here to be able to override the default hidden behavior on the sphinx rendered scikit-learn.org. See: https://github.com/scikit-learn/scikit-learn/issues/21755 */display: inline-block !important;position: relative;}#sk-container-id-1 div.sk-text-repr-fallback {display: none;}</style><div id=\"sk-container-id-1\" class=\"sk-top-container\"><div class=\"sk-text-repr-fallback\"><pre>KNeighborsClassifier(algorithm=&#x27;ball_tree&#x27;, leaf_size=3, metric=&#x27;manhattan&#x27;,\n",
       "                     n_neighbors=7)</pre><b>In a Jupyter environment, please rerun this cell to show the HTML representation or trust the notebook. <br />On GitHub, the HTML representation is unable to render, please try loading this page with nbviewer.org.</b></div><div class=\"sk-container\" hidden><div class=\"sk-item\"><div class=\"sk-estimator sk-toggleable\"><input class=\"sk-toggleable__control sk-hidden--visually\" id=\"sk-estimator-id-1\" type=\"checkbox\" checked><label for=\"sk-estimator-id-1\" class=\"sk-toggleable__label sk-toggleable__label-arrow\">KNeighborsClassifier</label><div class=\"sk-toggleable__content\"><pre>KNeighborsClassifier(algorithm=&#x27;ball_tree&#x27;, leaf_size=3, metric=&#x27;manhattan&#x27;,\n",
       "                     n_neighbors=7)</pre></div></div></div></div></div>"
      ],
      "text/plain": [
       "KNeighborsClassifier(algorithm='ball_tree', leaf_size=3, metric='manhattan',\n",
       "                     n_neighbors=7)"
      ]
     },
     "execution_count": 5,
     "metadata": {},
     "output_type": "execute_result"
    }
   ],
   "source": [
    "# Write your code here\n",
    "from sklearn.metrics import confusion_matrix, ConfusionMatrixDisplay\n",
    "from sklearn.neighbors import KNeighborsClassifier\n",
    "\n",
    "kn_cl = KNeighborsClassifier(n_neighbors=7, algorithm= 'ball_tree', leaf_size= 3, metric='manhattan')\n",
    "kn_cl.fit(X_train,y_train)"
   ]
  },
  {
   "cell_type": "markdown",
   "id": "d9226586",
   "metadata": {},
   "source": [
    "### Evaluation on the training set (5 points)\n",
    "\n",
    "Now, evaluate the performance of your classifier using the confusion matrix. Compute and visualize the confusion matrix for our three classes"
   ]
  },
  {
   "cell_type": "code",
   "execution_count": 6,
   "id": "0f3b1bb0",
   "metadata": {},
   "outputs": [
    {
     "data": {
      "image/png": "[encoded data removed]",
      "text/plain": [
       "<Figure size 640x480 with 2 Axes>"
      ]
     },
     "metadata": {},
     "output_type": "display_data"
    }
   ],
   "source": [
    "# Write your code here\n",
    "y_train_pred = kn_cl.predict(X_train)\n",
    "cm = confusion_matrix(y_train, y_train_pred)\n",
    "\n",
    "cm_display = ConfusionMatrixDisplay(confusion_matrix = cm, display_labels = kn_cl.classes_)\n",
    "cm_display.plot()\n",
    "plt.show()"
   ]
  },
  {
   "cell_type": "markdown",
   "id": "8c83fe55",
   "metadata": {},
   "source": [
    "Compute precision, recall, and F1 score for each class prediction on the training set and print out a report."
   ]
  },
  {
   "cell_type": "code",
   "execution_count": 7,
   "id": "61ab2b0d",
   "metadata": {},
   "outputs": [
    {
     "name": "stdout",
     "output_type": "stream",
     "text": [
      "Precision: [1.   1.   0.97]\n",
      "Recall: [1.   0.97 1.  ]\n",
      "F1: [1.   0.99 0.98]\n",
      "              precision    recall  f1-score   support\n",
      "\n",
      "      setosa       1.00      1.00      1.00        35\n",
      "  versicolor       1.00      0.97      0.99        34\n",
      "   virginica       0.97      1.00      0.98        31\n",
      "\n",
      "    accuracy                           0.99       100\n",
      "   macro avg       0.99      0.99      0.99       100\n",
      "weighted avg       0.99      0.99      0.99       100\n",
      "\n"
     ]
    }
   ],
   "source": [
    "# Write your code here\n",
    "from sklearn.metrics import precision_score, recall_score, f1_score\n",
    "from sklearn.metrics import classification_report\n",
    "\n",
    "ps = precision_score(y_true=y_train, y_pred=y_train_pred, average=None)\n",
    "rs = recall_score(y_true=y_train, y_pred=y_train_pred, average=None)\n",
    "f1s = f1_score(y_true=y_train, y_pred=y_train_pred, average=None)\n",
    "\n",
    "print(\"Precision:\", ps)\n",
    "print(\"Recall:\", rs)\n",
    "print(\"F1:\", f1s)\n",
    "\n",
    "score_report  = classification_report(y_train, y_train_pred, target_names= iris.target_names)\n",
    "print(score_report)"
   ]
  },
  {
   "cell_type": "markdown",
   "id": "2b85a004",
   "metadata": {},
   "source": [
    "How does the result look like? Has anything been misclassified?\n",
    "\n",
    "Class 0 was classified with no errors, wheras class 2 got predicted as class 1 once. Other than that there were no errors\n",
    "\n",
    "### Evaluation on the test set (5 points)\n",
    "\n",
    "Now make predictions on the test set, compute the confusion matrix for the test set. how does it compare to the one of the training set?"
   ]
  },
  {
   "cell_type": "code",
   "execution_count": 8,
   "id": "c5a1e90c",
   "metadata": {},
   "outputs": [
    {
     "data": {
      "image/png": "[encoded data removed]",
      "text/plain": [
       "<Figure size 640x480 with 2 Axes>"
      ]
     },
     "metadata": {},
     "output_type": "display_data"
    }
   ],
   "source": [
    "# Write your code here\n",
    "y_test_pred = kn_cl.predict(X_test)\n",
    "cm = confusion_matrix(y_test, y_test_pred)\n",
    "\n",
    "cm_display = ConfusionMatrixDisplay(confusion_matrix = cm, display_labels = kn_cl.classes_)\n",
    "cm_display.plot()\n",
    "plt.show()\n"
   ]
  },
  {
   "cell_type": "markdown",
   "id": "b526dc80",
   "metadata": {},
   "source": [
    "Class 0 was predicted perfectly, wheras class 2 was predicted as class 1 twice and class 1 was predicted as class 2 three times, suggesting maybe this data has some overlap wheras class 0 was distinct."
   ]
  },
  {
   "cell_type": "markdown",
   "id": "921f28ca",
   "metadata": {},
   "source": [
    "Compute precision, recall, and F1 score for each class prediction on the test set and print out a report."
   ]
  },
  {
   "cell_type": "code",
   "execution_count": 9,
   "id": "77f74920",
   "metadata": {},
   "outputs": [
    {
     "name": "stdout",
     "output_type": "stream",
     "text": [
      "Precision: [1.   0.87 0.85]\n",
      "Recall: [1.   0.81 0.89]\n",
      "F1: [1.   0.84 0.87]\n",
      "              precision    recall  f1-score   support\n",
      "\n",
      "      setosa       1.00      1.00      1.00        15\n",
      "  versicolor       0.87      0.81      0.84        16\n",
      "   virginica       0.85      0.89      0.87        19\n",
      "\n",
      "    accuracy                           0.90        50\n",
      "   macro avg       0.91      0.90      0.90        50\n",
      "weighted avg       0.90      0.90      0.90        50\n",
      "\n"
     ]
    }
   ],
   "source": [
    "# Write your code here\n",
    "ps = precision_score(y_true=y_test, y_pred=y_test_pred, average=None)\n",
    "rs = recall_score(y_true=y_test, y_pred=y_test_pred, average=None)\n",
    "f1s = f1_score(y_true=y_test, y_pred=y_test_pred, average=None)\n",
    "\n",
    "print(\"Precision:\", ps)\n",
    "print(\"Recall:\", rs)\n",
    "print(\"F1:\", f1s)\n",
    "\n",
    "score_report  = classification_report(y_test, y_test_pred, target_names= iris.target_names)\n",
    "print(score_report)"
   ]
  },
  {
   "cell_type": "markdown",
   "id": "f0d4e79c",
   "metadata": {},
   "source": [
    "## Part 2: Unsupervised Learning using K-Means (10 points)\n",
    "\n",
    "Train K-means clusterers on the entire iris dataset.\n",
    "\n",
    "Train clusters with 2 to 6 clusters and use one of the metrics discussed in week 7 to show which is the optimal number of clusters"
   ]
  },
  {
   "cell_type": "markdown",
   "id": "b3b3eb00",
   "metadata": {},
   "source": [
    "Elbow method"
   ]
  },
  {
   "cell_type": "code",
   "execution_count": 10,
   "id": "528d5470",
   "metadata": {},
   "outputs": [
    {
     "name": "stderr",
     "output_type": "stream",
     "text": [
      "c:\\ProgramData\\anaconda3\\Lib\\site-packages\\sklearn\\cluster\\_kmeans.py:1412: FutureWarning: The default value of `n_init` will change from 10 to 'auto' in 1.4. Set the value of `n_init` explicitly to suppress the warning\n",
      "  super()._check_params_vs_input(X, default_n_init=10)\n",
      "c:\\ProgramData\\anaconda3\\Lib\\site-packages\\sklearn\\cluster\\_kmeans.py:1436: UserWarning: KMeans is known to have a memory leak on Windows with MKL, when there are less chunks than available threads. You can avoid it by setting the environment variable OMP_NUM_THREADS=1.\n",
      "  warnings.warn(\n",
      "c:\\ProgramData\\anaconda3\\Lib\\site-packages\\sklearn\\cluster\\_kmeans.py:1412: FutureWarning: The default value of `n_init` will change from 10 to 'auto' in 1.4. Set the value of `n_init` explicitly to suppress the warning\n",
      "  super()._check_params_vs_input(X, default_n_init=10)\n",
      "c:\\ProgramData\\anaconda3\\Lib\\site-packages\\sklearn\\cluster\\_kmeans.py:1436: UserWarning: KMeans is known to have a memory leak on Windows with MKL, when there are less chunks than available threads. You can avoid it by setting the environment variable OMP_NUM_THREADS=1.\n",
      "  warnings.warn(\n",
      "c:\\ProgramData\\anaconda3\\Lib\\site-packages\\sklearn\\cluster\\_kmeans.py:1412: FutureWarning: The default value of `n_init` will change from 10 to 'auto' in 1.4. Set the value of `n_init` explicitly to suppress the warning\n",
      "  super()._check_params_vs_input(X, default_n_init=10)\n",
      "c:\\ProgramData\\anaconda3\\Lib\\site-packages\\sklearn\\cluster\\_kmeans.py:1436: UserWarning: KMeans is known to have a memory leak on Windows with MKL, when there are less chunks than available threads. You can avoid it by setting the environment variable OMP_NUM_THREADS=1.\n",
      "  warnings.warn(\n",
      "c:\\ProgramData\\anaconda3\\Lib\\site-packages\\sklearn\\cluster\\_kmeans.py:1412: FutureWarning: The default value of `n_init` will change from 10 to 'auto' in 1.4. Set the value of `n_init` explicitly to suppress the warning\n",
      "  super()._check_params_vs_input(X, default_n_init=10)\n",
      "c:\\ProgramData\\anaconda3\\Lib\\site-packages\\sklearn\\cluster\\_kmeans.py:1436: UserWarning: KMeans is known to have a memory leak on Windows with MKL, when there are less chunks than available threads. You can avoid it by setting the environment variable OMP_NUM_THREADS=1.\n",
      "  warnings.warn(\n",
      "c:\\ProgramData\\anaconda3\\Lib\\site-packages\\sklearn\\cluster\\_kmeans.py:1412: FutureWarning: The default value of `n_init` will change from 10 to 'auto' in 1.4. Set the value of `n_init` explicitly to suppress the warning\n",
      "  super()._check_params_vs_input(X, default_n_init=10)\n",
      "c:\\ProgramData\\anaconda3\\Lib\\site-packages\\sklearn\\cluster\\_kmeans.py:1436: UserWarning: KMeans is known to have a memory leak on Windows with MKL, when there are less chunks than available threads. You can avoid it by setting the environment variable OMP_NUM_THREADS=1.\n",
      "  warnings.warn(\n"
     ]
    }
   ],
   "source": [
    "# Write your code here. Add as many cells as you need.\n",
    "from sklearn.cluster import KMeans\n",
    "\n",
    "kmeans_per_k = [\n",
    "    KMeans(n_clusters=k, random_state=42).fit(X)\n",
    "    for k in range(2, 7)\n",
    "]\n",
    "inertias = [model.inertia_ for model in kmeans_per_k]"
   ]
  },
  {
   "cell_type": "code",
   "execution_count": 11,
   "id": "ad7c26de",
   "metadata": {},
   "outputs": [
    {
     "data": {
      "image/png": "[encoded data removed]",
      "text/plain": [
       "<Figure size 800x350 with 1 Axes>"
      ]
     },
     "metadata": {},
     "output_type": "display_data"
    }
   ],
   "source": [
    "plt.figure(figsize=(8, 3.5))\n",
    "plt.plot(range(2, 7), inertias, \"bo-\")\n",
    "plt.xlabel(\"$k$\", fontsize=14)\n",
    "plt.ylabel(\"Inertia\", fontsize=14)\n",
    "# add an arrow pointing to the elbow\n",
    "plt.axis([1.5, 6.5, 0, 175])\n",
    "plt.annotate('Elbow',\n",
    "             xy=(3, inertias[3]),\n",
    "             xytext=(0.35, 0.55),\n",
    "             textcoords='figure fraction',\n",
    "             fontsize=16,\n",
    "             #arrowprops=dict(facecolor='black', shrink=0.1)\n",
    "            )\n",
    "plt.show()"
   ]
  },
  {
   "cell_type": "markdown",
   "id": "fdaab37b",
   "metadata": {},
   "source": [
    "There is an elbow at $k=3$, as we can see a sharp decrease in inertia between $k=2$ and $k=3$ but then the decrease plateaus after $k=3$, so this seems like a sensible number of clusters (and from knowing iris has 3 categories this makes sense)."
   ]
  },
  {
   "cell_type": "markdown",
   "id": "a083cc0f",
   "metadata": {},
   "source": []
  }
 ],
 "metadata": {
  "kernelspec": {
   "display_name": "Python 3.10.5 64-bit ('3.10.5')",
   "language": "python",
   "name": "python3"
  },
  "language_info": {
   "codemirror_mode": {
    "name": "ipython",
    "version": 3
   },
   "file_extension": ".py",
   "mimetype": "text/x-python",
   "name": "python",
   "nbconvert_exporter": "python",
   "pygments_lexer": "ipython3",
   "version": "3.11.0"
  },
  "vscode": {
   "interpreter": {
    "hash": "867df1ee534d26f2c7c906fca85dfba438b7170d4a41fa95ef57b9d1241c9022"
   }
  }
 },
 "nbformat": 4,
 "nbformat_minor": 5
}

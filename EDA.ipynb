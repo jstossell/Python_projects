{
 "cells": [
  {
   "cell_type": "markdown",
   "metadata": {},
   "source": [
    "# Second Assignment: Exercise and a Personal Project"
   ]
  },
  {
   "cell_type": "markdown",
   "metadata": {},
   "source": [
    "# Part 1 (Set Exercise) (out of 20 marks)\n",
    "\n",
    "In this first part of Assignment 2, you are asked to continue work on the Iris dataset and further utilise libraries such as NumPy, Pandas and Matplotlib."
   ]
  },
  {
   "cell_type": "markdown",
   "metadata": {},
   "source": [
    "### Set up cells"
   ]
  },
  {
   "cell_type": "code",
   "execution_count": 1,
   "metadata": {},
   "outputs": [],
   "source": [
    "## Let's import the libraries we are going to use later on\n",
    "import numpy as np\n",
    "import pandas as pd\n",
    "import matplotlib.pyplot as plt\n",
    "import seaborn as sns\n",
    "import math\n",
    "\n",
    "\n",
    "# Let's set the precision for NumPy and Pandas\n",
    "np.set_printoptions(precision=3)\n",
    "pd.options.display.float_format = '{:,.2f}'.format"
   ]
  },
  {
   "cell_type": "markdown",
   "metadata": {},
   "source": [
    "### Import iris dataset "
   ]
  },
  {
   "cell_type": "code",
   "execution_count": 2,
   "metadata": {},
   "outputs": [],
   "source": [
    "# Input:\n",
    "# Import iris keeping the text column intact\n",
    "url = 'https://archive.ics.uci.edu/ml/machine-learning-databases/iris/iris.data'\n",
    "iris = np.genfromtxt(url, delimiter=',', \n",
    "                     names=['sepal length', 'sepal width', 'petal length', 'petal width', 'species'],\n",
    "                     dtype=[np.float32, np.float32, np.float32, np.float32, '|S15']\n",
    ")"
   ]
  },
  {
   "cell_type": "markdown",
   "metadata": {},
   "source": [
    "### 1A. Produce some descriptive statistics for the iris dataset (5 marks)\n",
    "\n",
    "For example, display the count of records, mean, std, min, max and in addtion to the quartiles for each of the columns."
   ]
  },
  {
   "cell_type": "code",
   "execution_count": 3,
   "metadata": {},
   "outputs": [
    {
     "data": {
      "text/html": [
       "<div>\n",
       "<style scoped>\n",
       "    .dataframe tbody tr th:only-of-type {\n",
       "        vertical-align: middle;\n",
       "    }\n",
       "\n",
       "    .dataframe tbody tr th {\n",
       "        vertical-align: top;\n",
       "    }\n",
       "\n",
       "    .dataframe thead th {\n",
       "        text-align: right;\n",
       "    }\n",
       "</style>\n",
       "<table border=\"1\" class=\"dataframe\">\n",
       "  <thead>\n",
       "    <tr style=\"text-align: right;\">\n",
       "      <th></th>\n",
       "      <th>sepal_length</th>\n",
       "      <th>sepal_width</th>\n",
       "      <th>petal_length</th>\n",
       "      <th>petal_width</th>\n",
       "    </tr>\n",
       "  </thead>\n",
       "  <tbody>\n",
       "    <tr>\n",
       "      <th>count</th>\n",
       "      <td>150.00</td>\n",
       "      <td>150.00</td>\n",
       "      <td>150.00</td>\n",
       "      <td>150.00</td>\n",
       "    </tr>\n",
       "    <tr>\n",
       "      <th>mean</th>\n",
       "      <td>5.84</td>\n",
       "      <td>3.05</td>\n",
       "      <td>3.76</td>\n",
       "      <td>1.20</td>\n",
       "    </tr>\n",
       "    <tr>\n",
       "      <th>std</th>\n",
       "      <td>0.83</td>\n",
       "      <td>0.43</td>\n",
       "      <td>1.76</td>\n",
       "      <td>0.76</td>\n",
       "    </tr>\n",
       "    <tr>\n",
       "      <th>min</th>\n",
       "      <td>4.30</td>\n",
       "      <td>2.00</td>\n",
       "      <td>1.00</td>\n",
       "      <td>0.10</td>\n",
       "    </tr>\n",
       "    <tr>\n",
       "      <th>25%</th>\n",
       "      <td>5.10</td>\n",
       "      <td>2.80</td>\n",
       "      <td>1.60</td>\n",
       "      <td>0.30</td>\n",
       "    </tr>\n",
       "    <tr>\n",
       "      <th>50%</th>\n",
       "      <td>5.80</td>\n",
       "      <td>3.00</td>\n",
       "      <td>4.35</td>\n",
       "      <td>1.30</td>\n",
       "    </tr>\n",
       "    <tr>\n",
       "      <th>75%</th>\n",
       "      <td>6.40</td>\n",
       "      <td>3.30</td>\n",
       "      <td>5.10</td>\n",
       "      <td>1.80</td>\n",
       "    </tr>\n",
       "    <tr>\n",
       "      <th>max</th>\n",
       "      <td>7.90</td>\n",
       "      <td>4.40</td>\n",
       "      <td>6.90</td>\n",
       "      <td>2.50</td>\n",
       "    </tr>\n",
       "  </tbody>\n",
       "</table>\n",
       "</div>"
      ],
      "text/plain": [
       "       sepal_length  sepal_width  petal_length  petal_width\n",
       "count        150.00       150.00        150.00       150.00\n",
       "mean           5.84         3.05          3.76         1.20\n",
       "std            0.83         0.43          1.76         0.76\n",
       "min            4.30         2.00          1.00         0.10\n",
       "25%            5.10         2.80          1.60         0.30\n",
       "50%            5.80         3.00          4.35         1.30\n",
       "75%            6.40         3.30          5.10         1.80\n",
       "max            7.90         4.40          6.90         2.50"
      ]
     },
     "execution_count": 3,
     "metadata": {},
     "output_type": "execute_result"
    }
   ],
   "source": [
    "# Write your solution here.\n",
    "iris_df = pd.DataFrame(iris)\n",
    "iris_df.describe()"
   ]
  },
  {
   "cell_type": "markdown",
   "metadata": {},
   "source": [
    "### 1B. Calculate the maximum petal width for each species of flower (5 marks)"
   ]
  },
  {
   "cell_type": "code",
   "execution_count": 4,
   "metadata": {},
   "outputs": [
    {
     "data": {
      "text/html": [
       "<div>\n",
       "<style scoped>\n",
       "    .dataframe tbody tr th:only-of-type {\n",
       "        vertical-align: middle;\n",
       "    }\n",
       "\n",
       "    .dataframe tbody tr th {\n",
       "        vertical-align: top;\n",
       "    }\n",
       "\n",
       "    .dataframe thead th {\n",
       "        text-align: right;\n",
       "    }\n",
       "</style>\n",
       "<table border=\"1\" class=\"dataframe\">\n",
       "  <thead>\n",
       "    <tr style=\"text-align: right;\">\n",
       "      <th></th>\n",
       "      <th>sepal_length</th>\n",
       "      <th>sepal_width</th>\n",
       "      <th>petal_length</th>\n",
       "      <th>petal_width</th>\n",
       "      <th>species</th>\n",
       "    </tr>\n",
       "  </thead>\n",
       "  <tbody>\n",
       "    <tr>\n",
       "      <th>0</th>\n",
       "      <td>5.10</td>\n",
       "      <td>3.50</td>\n",
       "      <td>1.40</td>\n",
       "      <td>0.20</td>\n",
       "      <td>b'Iris-setosa'</td>\n",
       "    </tr>\n",
       "    <tr>\n",
       "      <th>1</th>\n",
       "      <td>4.90</td>\n",
       "      <td>3.00</td>\n",
       "      <td>1.40</td>\n",
       "      <td>0.20</td>\n",
       "      <td>b'Iris-setosa'</td>\n",
       "    </tr>\n",
       "    <tr>\n",
       "      <th>2</th>\n",
       "      <td>4.70</td>\n",
       "      <td>3.20</td>\n",
       "      <td>1.30</td>\n",
       "      <td>0.20</td>\n",
       "      <td>b'Iris-setosa'</td>\n",
       "    </tr>\n",
       "    <tr>\n",
       "      <th>3</th>\n",
       "      <td>4.60</td>\n",
       "      <td>3.10</td>\n",
       "      <td>1.50</td>\n",
       "      <td>0.20</td>\n",
       "      <td>b'Iris-setosa'</td>\n",
       "    </tr>\n",
       "    <tr>\n",
       "      <th>4</th>\n",
       "      <td>5.00</td>\n",
       "      <td>3.60</td>\n",
       "      <td>1.40</td>\n",
       "      <td>0.20</td>\n",
       "      <td>b'Iris-setosa'</td>\n",
       "    </tr>\n",
       "  </tbody>\n",
       "</table>\n",
       "</div>"
      ],
      "text/plain": [
       "   sepal_length  sepal_width  petal_length  petal_width         species\n",
       "0          5.10         3.50          1.40         0.20  b'Iris-setosa'\n",
       "1          4.90         3.00          1.40         0.20  b'Iris-setosa'\n",
       "2          4.70         3.20          1.30         0.20  b'Iris-setosa'\n",
       "3          4.60         3.10          1.50         0.20  b'Iris-setosa'\n",
       "4          5.00         3.60          1.40         0.20  b'Iris-setosa'"
      ]
     },
     "execution_count": 4,
     "metadata": {},
     "output_type": "execute_result"
    }
   ],
   "source": [
    "iris_df.head()"
   ]
  },
  {
   "cell_type": "code",
   "execution_count": 5,
   "metadata": {},
   "outputs": [
    {
     "data": {
      "text/plain": [
       "species\n",
       "b'Iris-setosa'       0.60\n",
       "b'Iris-versicolor'   1.80\n",
       "b'Iris-virginica'    2.50\n",
       "Name: petal_width, dtype: float32"
      ]
     },
     "execution_count": 5,
     "metadata": {},
     "output_type": "execute_result"
    }
   ],
   "source": [
    "# Write your solution here.\n",
    "iris_df.groupby('species').max()['petal_width']"
   ]
  },
  {
   "cell_type": "markdown",
   "metadata": {},
   "source": [
    "### 1C. Data Visualisation (5 marks)\n",
    "\n",
    "Produce a boxplot for each of the four columns of the iris dataset (sepal_length, sepal_width, petal_length and petal_width) in addition to the volume column (if you completed Assignment 1)."
   ]
  },
  {
   "cell_type": "code",
   "execution_count": 6,
   "metadata": {},
   "outputs": [],
   "source": [
    "url = 'https://archive.ics.uci.edu/ml/machine-learning-databases/iris/iris.data'\n",
    "iris = np.genfromtxt(url, delimiter=',', \n",
    "                     names=['sepal length', 'sepal width', 'petal length', 'petal width', 'species'],\n",
    "                     dtype=[np.float32, np.float32, np.float32, np.float32, '|S15']\n",
    ")\n",
    "\n",
    "iris_data = np.array([list(row)[:4] for row in iris])\n",
    "iris_label = np.array([list(row)[4] for row in iris])\n",
    "pi = math.pi\n",
    "\n",
    "#imdex : sepal length = 0, sepal width = 1, petal length = 2, petal width =3\n",
    "volume = (pi*(iris_data[:,0]**2)*iris_data[:,2])/3\n",
    "volume = volume[:,np.newaxis]\n",
    "\n",
    "new_iris = np.hstack((iris_data, volume))\n",
    "\n",
    "new_iris_df = pd.DataFrame(new_iris)\n",
    "new_iris_df.columns = ['Sepal length', 'Sepal width', 'Petal length', 'Petal width','Volume']\n",
    "\n",
    "new_iris_df['Species'] = list(iris_label)"
   ]
  },
  {
   "cell_type": "code",
   "execution_count": 7,
   "metadata": {},
   "outputs": [
    {
     "data": {
      "image/png": "[encoded data removed]",
      "text/plain": [
       "<Figure size 1100x4000 with 5 Axes>"
      ]
     },
     "metadata": {},
     "output_type": "display_data"
    }
   ],
   "source": [
    "fig, axes = plt.subplots(5, 1, figsize=(11, 40), sharex=False)\n",
    "for name, ax in zip(['Sepal length', 'Sepal width', 'Petal length', 'Petal width','Volume'], axes):\n",
    "    custom_palette = [\"#DF98F2\", \"#F5D795\", \"#99D8F1\"]\n",
    "    sns.boxplot(data=new_iris_df, x='Species', y=name, ax=ax, palette=custom_palette)\n",
    "    # Remove the automatic x-axis label from all but the bottom subplot\n",
    "    if ax != axes[-1]:\n",
    "        ax.set_xlabel('')\n",
    "    ax.set_title(f'Box plot for \"{name}\" across three species')\n",
    "    sns.set_style(\"whitegrid\")\n"
   ]
  },
  {
   "cell_type": "markdown",
   "metadata": {},
   "source": [
    "### 1D. Provide a short intrepretation of the data visualised by your 1C solution. (5 marks)\n"
   ]
  },
  {
   "cell_type": "markdown",
   "metadata": {},
   "source": [
    "The boxplot visualisation suggests that Iris Virginica has the largest average sepal length, petal width, volume, and petal length, while Iris Setosa has the smallest average across these four metrics. Also across these four metrics we see that Iris Virginica has the largest IQR, while Iris setosa has the smallest. The one category that does not follow this trend is the measurement of sepal width which shows Iris Setosa with the largest average, and Iris Veriscolor with the smallest average."
   ]
  },
  {
   "cell_type": "markdown",
   "metadata": {},
   "source": [
    "# Part 2 - Personal Project (out of 50 marks)\n",
    "In this second part of Assignment 2 you have the opportunity to perform some data analysis on a dataset of your choice. Choose a dataset or a scenario that interests you and provide an outline of the scenario, clean the dataset (if needed), perform some statistic analysis, visualise this data analysis and comment on what you see.   "
   ]
  },
  {
   "cell_type": "markdown",
   "metadata": {},
   "source": [
    "## Introduction to the Disney+ dataset (5 marks)\n",
    "\n",
    "This is a dataset from kaggle, found at: https://www.kaggle.com/datasets/shivamb/disney-movies-and-tv-shows?resource=download . This data set contains information on movies and series including their titles, directors, country of origin release dates and much more."
   ]
  },
  {
   "cell_type": "code",
   "execution_count": 8,
   "metadata": {},
   "outputs": [
    {
     "data": {
      "text/html": [
       "<div>\n",
       "<style scoped>\n",
       "    .dataframe tbody tr th:only-of-type {\n",
       "        vertical-align: middle;\n",
       "    }\n",
       "\n",
       "    .dataframe tbody tr th {\n",
       "        vertical-align: top;\n",
       "    }\n",
       "\n",
       "    .dataframe thead th {\n",
       "        text-align: right;\n",
       "    }\n",
       "</style>\n",
       "<table border=\"1\" class=\"dataframe\">\n",
       "  <thead>\n",
       "    <tr style=\"text-align: right;\">\n",
       "      <th></th>\n",
       "      <th>show_id</th>\n",
       "      <th>type</th>\n",
       "      <th>title</th>\n",
       "      <th>director</th>\n",
       "      <th>cast</th>\n",
       "      <th>country</th>\n",
       "      <th>date_added</th>\n",
       "      <th>release_year</th>\n",
       "      <th>rating</th>\n",
       "      <th>duration</th>\n",
       "      <th>listed_in</th>\n",
       "      <th>description</th>\n",
       "    </tr>\n",
       "  </thead>\n",
       "  <tbody>\n",
       "    <tr>\n",
       "      <th>143</th>\n",
       "      <td>s144</td>\n",
       "      <td>Movie</td>\n",
       "      <td>Built for Mars: The Perseverance Rover</td>\n",
       "      <td>Mark J Davis</td>\n",
       "      <td>Steven French</td>\n",
       "      <td>NaN</td>\n",
       "      <td>July 30, 2021</td>\n",
       "      <td>2021</td>\n",
       "      <td>TV-PG</td>\n",
       "      <td>88 min</td>\n",
       "      <td>Documentary</td>\n",
       "      <td>BUILT FOR MARS: THE PERSEVERANCE ROVER follows...</td>\n",
       "    </tr>\n",
       "    <tr>\n",
       "      <th>892</th>\n",
       "      <td>s893</td>\n",
       "      <td>Movie</td>\n",
       "      <td>Float</td>\n",
       "      <td>Bobby Rubio</td>\n",
       "      <td>Eli Fucile, Bobby Rubio, Luna Watson, Mika Kubo</td>\n",
       "      <td>United States</td>\n",
       "      <td>November 12, 2019</td>\n",
       "      <td>2019</td>\n",
       "      <td>PG</td>\n",
       "      <td>10 min</td>\n",
       "      <td>Animation, Family, Fantasy</td>\n",
       "      <td>A father hides his unusual son, and then must ...</td>\n",
       "    </tr>\n",
       "    <tr>\n",
       "      <th>1220</th>\n",
       "      <td>s1221</td>\n",
       "      <td>Movie</td>\n",
       "      <td>Steamboat Willie</td>\n",
       "      <td>Walt Disney, Ub Iwerks</td>\n",
       "      <td>Walt Disney</td>\n",
       "      <td>United States</td>\n",
       "      <td>November 12, 2019</td>\n",
       "      <td>1928</td>\n",
       "      <td>TV-Y7</td>\n",
       "      <td>8 min</td>\n",
       "      <td>Animation, Family, Kids</td>\n",
       "      <td>Watch Mickey Mouse's classic cartoon debut. Se...</td>\n",
       "    </tr>\n",
       "    <tr>\n",
       "      <th>619</th>\n",
       "      <td>s620</td>\n",
       "      <td>Movie</td>\n",
       "      <td>Marvel's Iron Man &amp; Hulk: Heroes United</td>\n",
       "      <td>Leo Riley</td>\n",
       "      <td>Adrian Pasdar, Fred Tatasciore, David Kaye, De...</td>\n",
       "      <td>United States</td>\n",
       "      <td>February 16, 2020</td>\n",
       "      <td>2013</td>\n",
       "      <td>PG</td>\n",
       "      <td>74 min</td>\n",
       "      <td>Action-Adventure, Animation, Science Fiction</td>\n",
       "      <td>Avengers Iron Man and Hulk team up to fight an...</td>\n",
       "    </tr>\n",
       "    <tr>\n",
       "      <th>1179</th>\n",
       "      <td>s1180</td>\n",
       "      <td>Movie</td>\n",
       "      <td>Saving Mr. Banks</td>\n",
       "      <td>John Hancock</td>\n",
       "      <td>Emma Thompson, Tom Hanks, Colin Farrell, Paul ...</td>\n",
       "      <td>United States, United Kingdom, Australia</td>\n",
       "      <td>November 12, 2019</td>\n",
       "      <td>2013</td>\n",
       "      <td>PG-13</td>\n",
       "      <td>129 min</td>\n",
       "      <td>Biographical, Drama, Historical</td>\n",
       "      <td>Discover the untold story behind Walt Disney's...</td>\n",
       "    </tr>\n",
       "    <tr>\n",
       "      <th>393</th>\n",
       "      <td>s394</td>\n",
       "      <td>Movie</td>\n",
       "      <td>The Chronicles Of Narnia: The Voyage of the Da...</td>\n",
       "      <td>Michael Apted</td>\n",
       "      <td>Georgie Henley, Skandar Keynes, Ben Barnes, Wi...</td>\n",
       "      <td>United States, United Kingdom</td>\n",
       "      <td>October 9, 2020</td>\n",
       "      <td>2010</td>\n",
       "      <td>PG</td>\n",
       "      <td>113 min</td>\n",
       "      <td>Action-Adventure, Family, Fantasy</td>\n",
       "      <td>Three heroes sail with King Caspian to help Na...</td>\n",
       "    </tr>\n",
       "    <tr>\n",
       "      <th>367</th>\n",
       "      <td>s368</td>\n",
       "      <td>TV Show</td>\n",
       "      <td>Inside Pixar</td>\n",
       "      <td>NaN</td>\n",
       "      <td>NaN</td>\n",
       "      <td>United States</td>\n",
       "      <td>November 13, 2020</td>\n",
       "      <td>2020</td>\n",
       "      <td>TV-PG</td>\n",
       "      <td>1 Season</td>\n",
       "      <td>Docuseries, Family</td>\n",
       "      <td>An inside look at the people, artistry, and cu...</td>\n",
       "    </tr>\n",
       "  </tbody>\n",
       "</table>\n",
       "</div>"
      ],
      "text/plain": [
       "     show_id     type                                              title  \\\n",
       "143     s144    Movie             Built for Mars: The Perseverance Rover   \n",
       "892     s893    Movie                                              Float   \n",
       "1220   s1221    Movie                                   Steamboat Willie   \n",
       "619     s620    Movie            Marvel's Iron Man & Hulk: Heroes United   \n",
       "1179   s1180    Movie                                   Saving Mr. Banks   \n",
       "393     s394    Movie  The Chronicles Of Narnia: The Voyage of the Da...   \n",
       "367     s368  TV Show                                       Inside Pixar   \n",
       "\n",
       "                    director  \\\n",
       "143             Mark J Davis   \n",
       "892              Bobby Rubio   \n",
       "1220  Walt Disney, Ub Iwerks   \n",
       "619                Leo Riley   \n",
       "1179            John Hancock   \n",
       "393            Michael Apted   \n",
       "367                      NaN   \n",
       "\n",
       "                                                   cast  \\\n",
       "143                                       Steven French   \n",
       "892     Eli Fucile, Bobby Rubio, Luna Watson, Mika Kubo   \n",
       "1220                                        Walt Disney   \n",
       "619   Adrian Pasdar, Fred Tatasciore, David Kaye, De...   \n",
       "1179  Emma Thompson, Tom Hanks, Colin Farrell, Paul ...   \n",
       "393   Georgie Henley, Skandar Keynes, Ben Barnes, Wi...   \n",
       "367                                                 NaN   \n",
       "\n",
       "                                       country         date_added  \\\n",
       "143                                        NaN      July 30, 2021   \n",
       "892                              United States  November 12, 2019   \n",
       "1220                             United States  November 12, 2019   \n",
       "619                              United States  February 16, 2020   \n",
       "1179  United States, United Kingdom, Australia  November 12, 2019   \n",
       "393              United States, United Kingdom    October 9, 2020   \n",
       "367                              United States  November 13, 2020   \n",
       "\n",
       "      release_year rating  duration  \\\n",
       "143           2021  TV-PG    88 min   \n",
       "892           2019     PG    10 min   \n",
       "1220          1928  TV-Y7     8 min   \n",
       "619           2013     PG    74 min   \n",
       "1179          2013  PG-13   129 min   \n",
       "393           2010     PG   113 min   \n",
       "367           2020  TV-PG  1 Season   \n",
       "\n",
       "                                         listed_in  \\\n",
       "143                                    Documentary   \n",
       "892                     Animation, Family, Fantasy   \n",
       "1220                       Animation, Family, Kids   \n",
       "619   Action-Adventure, Animation, Science Fiction   \n",
       "1179               Biographical, Drama, Historical   \n",
       "393              Action-Adventure, Family, Fantasy   \n",
       "367                             Docuseries, Family   \n",
       "\n",
       "                                            description  \n",
       "143   BUILT FOR MARS: THE PERSEVERANCE ROVER follows...  \n",
       "892   A father hides his unusual son, and then must ...  \n",
       "1220  Watch Mickey Mouse's classic cartoon debut. Se...  \n",
       "619   Avengers Iron Man and Hulk team up to fight an...  \n",
       "1179  Discover the untold story behind Walt Disney's...  \n",
       "393   Three heroes sail with King Caspian to help Na...  \n",
       "367   An inside look at the people, artistry, and cu...  "
      ]
     },
     "execution_count": 8,
     "metadata": {},
     "output_type": "execute_result"
    }
   ],
   "source": [
    "# Add setup code here - set the path to the chosen dataset, and import the relevant Python libraries.\n",
    "disney_data = pd.read_csv('./datasets/disney_plus_titles.csv')\n",
    "disney_data.sample(7)"
   ]
  },
  {
   "cell_type": "code",
   "execution_count": 9,
   "metadata": {},
   "outputs": [
    {
     "name": "stdout",
     "output_type": "stream",
     "text": [
      "<class 'pandas.core.frame.DataFrame'>\n",
      "RangeIndex: 1450 entries, 0 to 1449\n",
      "Data columns (total 12 columns):\n",
      " #   Column        Non-Null Count  Dtype \n",
      "---  ------        --------------  ----- \n",
      " 0   show_id       1450 non-null   object\n",
      " 1   type          1450 non-null   object\n",
      " 2   title         1450 non-null   object\n",
      " 3   director      977 non-null    object\n",
      " 4   cast          1260 non-null   object\n",
      " 5   country       1231 non-null   object\n",
      " 6   date_added    1447 non-null   object\n",
      " 7   release_year  1450 non-null   int64 \n",
      " 8   rating        1447 non-null   object\n",
      " 9   duration      1450 non-null   object\n",
      " 10  listed_in     1450 non-null   object\n",
      " 11  description   1450 non-null   object\n",
      "dtypes: int64(1), object(11)\n",
      "memory usage: 136.1+ KB\n"
     ]
    }
   ],
   "source": [
    "disney_data.info()"
   ]
  },
  {
   "cell_type": "markdown",
   "metadata": {},
   "source": [
    "Looking at this information we are missing a large amount of values from the 'director', 'cast', and 'country' columns, as well as a small number of 'rating' and 'date_added' data. "
   ]
  },
  {
   "cell_type": "markdown",
   "metadata": {},
   "source": [
    "Since the 'rating' and 'date_added' colums have such a small number of NaNs we will drop these rows, as well drop as the show_id column as this will not be useful in our analysis. Also, we will create a dataset with just movies and just tv shows as then we can convert the duration column into integer values which will be useful for our statistical analysis later on. We will then drop the type column, as we will have split them by tv and movies anyway. We will also cast the date_added column to a date time object."
   ]
  },
  {
   "cell_type": "code",
   "execution_count": 10,
   "metadata": {},
   "outputs": [],
   "source": [
    "disney_data_na_drop = disney_data.dropna(subset=['rating','date_added'])\n",
    "disney_data_clean = disney_data_na_drop.drop('show_id', axis=1)\n",
    "disney_data_clean['date_added'] = pd.to_datetime(disney_data_clean.date_added)\n",
    "\n",
    "movies_disney_data = disney_data_clean[disney_data_clean['type'] == 'Movie']\n",
    "movies_disney_data = movies_disney_data.reset_index(drop=True)\n",
    "movies_disney_data['Duration (minutes)'] = movies_disney_data['duration'].str.split().str[0].astype(int)\n",
    "movies_disney_data_clean = movies_disney_data.drop(['duration','type'], axis=1)\n",
    "\n",
    "tv_disney_data = disney_data_clean[disney_data_clean['type'] == 'TV Show']\n",
    "tv_disney_data = tv_disney_data.reset_index(drop=True)\n",
    "tv_disney_data['Seasons'] = tv_disney_data['duration'].str.split().str[0].astype(int)\n",
    "tv_disney_data_clean = tv_disney_data.drop(['duration','type'], axis=1)"
   ]
  },
  {
   "cell_type": "code",
   "execution_count": 11,
   "metadata": {},
   "outputs": [
    {
     "name": "stdout",
     "output_type": "stream",
     "text": [
      "<class 'pandas.core.frame.DataFrame'>\n",
      "RangeIndex: 1051 entries, 0 to 1050\n",
      "Data columns (total 10 columns):\n",
      " #   Column              Non-Null Count  Dtype         \n",
      "---  ------              --------------  -----         \n",
      " 0   title               1051 non-null   object        \n",
      " 1   director            976 non-null    object        \n",
      " 2   cast                932 non-null    object        \n",
      " 3   country             946 non-null    object        \n",
      " 4   date_added          1051 non-null   datetime64[ns]\n",
      " 5   release_year        1051 non-null   int64         \n",
      " 6   rating              1051 non-null   object        \n",
      " 7   listed_in           1051 non-null   object        \n",
      " 8   description         1051 non-null   object        \n",
      " 9   Duration (minutes)  1051 non-null   int32         \n",
      "dtypes: datetime64[ns](1), int32(1), int64(1), object(7)\n",
      "memory usage: 78.1+ KB\n"
     ]
    }
   ],
   "source": [
    "movies_disney_data_clean.info()"
   ]
  },
  {
   "cell_type": "code",
   "execution_count": 12,
   "metadata": {},
   "outputs": [
    {
     "name": "stdout",
     "output_type": "stream",
     "text": [
      "<class 'pandas.core.frame.DataFrame'>\n",
      "RangeIndex: 393 entries, 0 to 392\n",
      "Data columns (total 10 columns):\n",
      " #   Column        Non-Null Count  Dtype         \n",
      "---  ------        --------------  -----         \n",
      " 0   title         393 non-null    object        \n",
      " 1   director      0 non-null      object        \n",
      " 2   cast          323 non-null    object        \n",
      " 3   country       282 non-null    object        \n",
      " 4   date_added    393 non-null    datetime64[ns]\n",
      " 5   release_year  393 non-null    int64         \n",
      " 6   rating        393 non-null    object        \n",
      " 7   listed_in     393 non-null    object        \n",
      " 8   description   393 non-null    object        \n",
      " 9   Seasons       393 non-null    int32         \n",
      "dtypes: datetime64[ns](1), int32(1), int64(1), object(7)\n",
      "memory usage: 29.3+ KB\n"
     ]
    }
   ],
   "source": [
    "tv_disney_data_clean.info()"
   ]
  },
  {
   "cell_type": "markdown",
   "metadata": {},
   "source": [
    "As the director column here is empty we will drop this column for just the tv shows."
   ]
  },
  {
   "cell_type": "code",
   "execution_count": 13,
   "metadata": {},
   "outputs": [],
   "source": [
    "tv_disney_data_clean = tv_disney_data_clean.drop(['director'], axis=1)"
   ]
  },
  {
   "cell_type": "markdown",
   "metadata": {
    "deletable": false,
    "editable": false
   },
   "source": [
    "## 1. What was the most popular genre of TV shows added to Disney+ in 2021? Produce a visualisation to show how many shows were added across each month of 2021, and include plots for the number of shows added for the top 3 genres (15 marks)\n"
   ]
  },
  {
   "cell_type": "code",
   "execution_count": 14,
   "metadata": {},
   "outputs": [
    {
     "data": {
      "text/html": [
       "<div>\n",
       "<style scoped>\n",
       "    .dataframe tbody tr th:only-of-type {\n",
       "        vertical-align: middle;\n",
       "    }\n",
       "\n",
       "    .dataframe tbody tr th {\n",
       "        vertical-align: top;\n",
       "    }\n",
       "\n",
       "    .dataframe thead th {\n",
       "        text-align: right;\n",
       "    }\n",
       "</style>\n",
       "<table border=\"1\" class=\"dataframe\">\n",
       "  <thead>\n",
       "    <tr style=\"text-align: right;\">\n",
       "      <th></th>\n",
       "      <th>title</th>\n",
       "      <th>cast</th>\n",
       "      <th>country</th>\n",
       "      <th>date_added</th>\n",
       "      <th>release_year</th>\n",
       "      <th>rating</th>\n",
       "      <th>listed_in</th>\n",
       "      <th>description</th>\n",
       "      <th>Seasons</th>\n",
       "    </tr>\n",
       "  </thead>\n",
       "  <tbody>\n",
       "    <tr>\n",
       "      <th>0</th>\n",
       "      <td>Hawkeye</td>\n",
       "      <td>Jeremy Renner, Hailee Steinfeld, Vera Farmiga,...</td>\n",
       "      <td>NaN</td>\n",
       "      <td>2021-11-24</td>\n",
       "      <td>2021</td>\n",
       "      <td>TV-14</td>\n",
       "      <td>Action-Adventure, Superhero</td>\n",
       "      <td>Clint Barton/Hawkeye must team up with skilled...</td>\n",
       "      <td>1</td>\n",
       "    </tr>\n",
       "    <tr>\n",
       "      <th>1</th>\n",
       "      <td>Port Protection Alaska</td>\n",
       "      <td>Gary Muehlberger, Mary Miller, Curly Leach, Sa...</td>\n",
       "      <td>United States</td>\n",
       "      <td>2021-11-24</td>\n",
       "      <td>2015</td>\n",
       "      <td>TV-14</td>\n",
       "      <td>Docuseries, Reality, Survival</td>\n",
       "      <td>Residents of Port Protection must combat volat...</td>\n",
       "      <td>2</td>\n",
       "    </tr>\n",
       "    <tr>\n",
       "      <th>2</th>\n",
       "      <td>Secrets of the Zoo: Tampa</td>\n",
       "      <td>Dr. Ray Ball, Dr. Lauren Smith, Chris Massaro,...</td>\n",
       "      <td>United States</td>\n",
       "      <td>2021-11-24</td>\n",
       "      <td>2019</td>\n",
       "      <td>TV-PG</td>\n",
       "      <td>Animals &amp; Nature, Docuseries, Family</td>\n",
       "      <td>A day in the life at ZooTampa is anything but ...</td>\n",
       "      <td>2</td>\n",
       "    </tr>\n",
       "    <tr>\n",
       "      <th>3</th>\n",
       "      <td>Dr. Oakley, Yukon Vet</td>\n",
       "      <td>Dr. Michelle Oakley, Zachary Fine</td>\n",
       "      <td>United States</td>\n",
       "      <td>2021-11-17</td>\n",
       "      <td>2013</td>\n",
       "      <td>TV-PG</td>\n",
       "      <td>Action-Adventure, Animals &amp; Nature, Docuseries</td>\n",
       "      <td>Meet Dr. Michelle Oakley, vet to pretty much e...</td>\n",
       "      <td>10</td>\n",
       "    </tr>\n",
       "    <tr>\n",
       "      <th>4</th>\n",
       "      <td>Disney Fancy Nancy</td>\n",
       "      <td>Mia Jenness, Alyson Hannigan, Rob Riggle, Spen...</td>\n",
       "      <td>United States, Canada</td>\n",
       "      <td>2021-11-12</td>\n",
       "      <td>2018</td>\n",
       "      <td>TV-PG</td>\n",
       "      <td>Animation, Kids</td>\n",
       "      <td>Nancy makes every day extraordinary!</td>\n",
       "      <td>3</td>\n",
       "    </tr>\n",
       "  </tbody>\n",
       "</table>\n",
       "</div>"
      ],
      "text/plain": [
       "                       title  \\\n",
       "0                    Hawkeye   \n",
       "1     Port Protection Alaska   \n",
       "2  Secrets of the Zoo: Tampa   \n",
       "3      Dr. Oakley, Yukon Vet   \n",
       "4         Disney Fancy Nancy   \n",
       "\n",
       "                                                cast                country  \\\n",
       "0  Jeremy Renner, Hailee Steinfeld, Vera Farmiga,...                    NaN   \n",
       "1  Gary Muehlberger, Mary Miller, Curly Leach, Sa...          United States   \n",
       "2  Dr. Ray Ball, Dr. Lauren Smith, Chris Massaro,...          United States   \n",
       "3                  Dr. Michelle Oakley, Zachary Fine          United States   \n",
       "4  Mia Jenness, Alyson Hannigan, Rob Riggle, Spen...  United States, Canada   \n",
       "\n",
       "  date_added  release_year rating  \\\n",
       "0 2021-11-24          2021  TV-14   \n",
       "1 2021-11-24          2015  TV-14   \n",
       "2 2021-11-24          2019  TV-PG   \n",
       "3 2021-11-17          2013  TV-PG   \n",
       "4 2021-11-12          2018  TV-PG   \n",
       "\n",
       "                                        listed_in  \\\n",
       "0                     Action-Adventure, Superhero   \n",
       "1                   Docuseries, Reality, Survival   \n",
       "2            Animals & Nature, Docuseries, Family   \n",
       "3  Action-Adventure, Animals & Nature, Docuseries   \n",
       "4                                 Animation, Kids   \n",
       "\n",
       "                                         description  Seasons  \n",
       "0  Clint Barton/Hawkeye must team up with skilled...        1  \n",
       "1  Residents of Port Protection must combat volat...        2  \n",
       "2  A day in the life at ZooTampa is anything but ...        2  \n",
       "3  Meet Dr. Michelle Oakley, vet to pretty much e...       10  \n",
       "4               Nancy makes every day extraordinary!        3  "
      ]
     },
     "execution_count": 14,
     "metadata": {},
     "output_type": "execute_result"
    }
   ],
   "source": [
    "tv_disney_data_clean.head()"
   ]
  },
  {
   "cell_type": "markdown",
   "metadata": {},
   "source": [
    "For this we will need to expand the 'listed_in' column so we have one genre per row in our df"
   ]
  },
  {
   "cell_type": "code",
   "execution_count": 15,
   "metadata": {},
   "outputs": [],
   "source": [
    "tv_genre_df = tv_disney_data_clean.assign(Genre=tv_disney_data_clean['listed_in'].str.split(',')).explode('Genre')\n",
    "tv_genre_df = tv_genre_df.drop(columns='listed_in')\n",
    "tv_genre_df.reset_index(drop=True, inplace=True)"
   ]
  },
  {
   "cell_type": "code",
   "execution_count": 16,
   "metadata": {},
   "outputs": [
    {
     "name": "stdout",
     "output_type": "stream",
     "text": [
      "The most popular genre amongst tv shows added in 2021 was Action-Adventure and this had 39 shows added in 2021.\n"
     ]
    }
   ],
   "source": [
    "tv_2021 = tv_genre_df[tv_genre_df['date_added'].dt.year == 2021]\n",
    "genre = tv_2021.value_counts('Genre').index[0]\n",
    "number_of = tv_2021.value_counts('Genre')[0]\n",
    "top_3_genre = tv_2021.value_counts('Genre').index[0:3]\n",
    "print(f'The most popular genre amongst tv shows added in 2021 was {genre} and this had {number_of} shows added in 2021.')"
   ]
  },
  {
   "cell_type": "code",
   "execution_count": 17,
   "metadata": {},
   "outputs": [
    {
     "name": "stderr",
     "output_type": "stream",
     "text": [
      "C:\\Users\\Jennifer.Tossell\\AppData\\Local\\Temp\\ipykernel_18772\\1020922231.py:1: SettingWithCopyWarning: \n",
      "A value is trying to be set on a copy of a slice from a DataFrame.\n",
      "Try using .loc[row_indexer,col_indexer] = value instead\n",
      "\n",
      "See the caveats in the documentation: https://pandas.pydata.org/pandas-docs/stable/user_guide/indexing.html#returning-a-view-versus-a-copy\n",
      "  tv_2021['Month'] = tv_2021['date_added'].dt.month\n"
     ]
    },
    {
     "data": {
      "image/png": "[encoded data removed]",
      "text/plain": [
       "<Figure size 640x480 with 1 Axes>"
      ]
     },
     "metadata": {},
     "output_type": "display_data"
    }
   ],
   "source": [
    "tv_2021['Month'] = tv_2021['date_added'].dt.month\n",
    "monthly_counts = tv_2021.groupby('Month').size()\n",
    "monthly_counts.plot(kind='line', marker='o')\n",
    "\n",
    "genre_counts = tv_2021.pivot_table(index='Month', columns='Genre', aggfunc='size', fill_value=0)\n",
    "\n",
    "for genre in top_3_genre:\n",
    "    genre_counts[genre].plot(kind='line', marker='o', label=genre)\n",
    "\n",
    "plt.xlabel('Month')\n",
    "plt.ylabel('Number of Shows')\n",
    "plt.title('Number of Shows added each Month in 2021')\n",
    "\n",
    "plt.legend()\n",
    "plt.show()"
   ]
  },
  {
   "cell_type": "markdown",
   "metadata": {},
   "source": [
    "## 2. Find the top 3 longest movies across the genres 'Comedy', 'Animation', and 'Musical' and combine this into a single dataframe (15 marks)"
   ]
  },
  {
   "cell_type": "code",
   "execution_count": 18,
   "metadata": {},
   "outputs": [
    {
     "data": {
      "text/html": [
       "<div>\n",
       "<style scoped>\n",
       "    .dataframe tbody tr th:only-of-type {\n",
       "        vertical-align: middle;\n",
       "    }\n",
       "\n",
       "    .dataframe tbody tr th {\n",
       "        vertical-align: top;\n",
       "    }\n",
       "\n",
       "    .dataframe thead th {\n",
       "        text-align: right;\n",
       "    }\n",
       "</style>\n",
       "<table border=\"1\" class=\"dataframe\">\n",
       "  <thead>\n",
       "    <tr style=\"text-align: right;\">\n",
       "      <th></th>\n",
       "      <th>title</th>\n",
       "      <th>director</th>\n",
       "      <th>cast</th>\n",
       "      <th>country</th>\n",
       "      <th>date_added</th>\n",
       "      <th>release_year</th>\n",
       "      <th>rating</th>\n",
       "      <th>listed_in</th>\n",
       "      <th>description</th>\n",
       "      <th>Duration (minutes)</th>\n",
       "    </tr>\n",
       "  </thead>\n",
       "  <tbody>\n",
       "    <tr>\n",
       "      <th>0</th>\n",
       "      <td>Duck the Halls: A Mickey Mouse Christmas Special</td>\n",
       "      <td>Alonso Ramirez Ramos, Dave Wasson</td>\n",
       "      <td>Chris Diamantopoulos, Tony Anselmo, Tress MacN...</td>\n",
       "      <td>NaN</td>\n",
       "      <td>2021-11-26</td>\n",
       "      <td>2016</td>\n",
       "      <td>TV-G</td>\n",
       "      <td>Animation, Family</td>\n",
       "      <td>Join Mickey and the gang as they duck the halls!</td>\n",
       "      <td>23</td>\n",
       "    </tr>\n",
       "    <tr>\n",
       "      <th>1</th>\n",
       "      <td>Ernest Saves Christmas</td>\n",
       "      <td>John Cherry</td>\n",
       "      <td>Jim Varney, Noelle Parker, Douglas Seale</td>\n",
       "      <td>NaN</td>\n",
       "      <td>2021-11-26</td>\n",
       "      <td>1988</td>\n",
       "      <td>PG</td>\n",
       "      <td>Comedy</td>\n",
       "      <td>Santa Claus passes his magic bag to a new St. ...</td>\n",
       "      <td>91</td>\n",
       "    </tr>\n",
       "    <tr>\n",
       "      <th>2</th>\n",
       "      <td>Ice Age: A Mammoth Christmas</td>\n",
       "      <td>Karen Disher</td>\n",
       "      <td>Raymond Albert Romano, John Leguizamo, Denis L...</td>\n",
       "      <td>United States</td>\n",
       "      <td>2021-11-26</td>\n",
       "      <td>2011</td>\n",
       "      <td>TV-G</td>\n",
       "      <td>Animation, Comedy, Family</td>\n",
       "      <td>Sid the Sloth is on Santa's naughty list.</td>\n",
       "      <td>23</td>\n",
       "    </tr>\n",
       "    <tr>\n",
       "      <th>3</th>\n",
       "      <td>The Queen Family Singalong</td>\n",
       "      <td>Hamish Hamilton</td>\n",
       "      <td>Darren Criss, Adam Lambert, Derek Hough, Alexa...</td>\n",
       "      <td>NaN</td>\n",
       "      <td>2021-11-26</td>\n",
       "      <td>2021</td>\n",
       "      <td>TV-PG</td>\n",
       "      <td>Musical</td>\n",
       "      <td>This is real life, not just fantasy!</td>\n",
       "      <td>41</td>\n",
       "    </tr>\n",
       "    <tr>\n",
       "      <th>4</th>\n",
       "      <td>Becoming Cousteau</td>\n",
       "      <td>Liz Garbus</td>\n",
       "      <td>Jacques Yves Cousteau, Vincent Cassel</td>\n",
       "      <td>United States</td>\n",
       "      <td>2021-11-24</td>\n",
       "      <td>2021</td>\n",
       "      <td>PG-13</td>\n",
       "      <td>Biographical, Documentary</td>\n",
       "      <td>An inside look at the legendary life of advent...</td>\n",
       "      <td>94</td>\n",
       "    </tr>\n",
       "  </tbody>\n",
       "</table>\n",
       "</div>"
      ],
      "text/plain": [
       "                                              title  \\\n",
       "0  Duck the Halls: A Mickey Mouse Christmas Special   \n",
       "1                            Ernest Saves Christmas   \n",
       "2                      Ice Age: A Mammoth Christmas   \n",
       "3                        The Queen Family Singalong   \n",
       "4                                 Becoming Cousteau   \n",
       "\n",
       "                            director  \\\n",
       "0  Alonso Ramirez Ramos, Dave Wasson   \n",
       "1                        John Cherry   \n",
       "2                       Karen Disher   \n",
       "3                    Hamish Hamilton   \n",
       "4                         Liz Garbus   \n",
       "\n",
       "                                                cast        country  \\\n",
       "0  Chris Diamantopoulos, Tony Anselmo, Tress MacN...            NaN   \n",
       "1           Jim Varney, Noelle Parker, Douglas Seale            NaN   \n",
       "2  Raymond Albert Romano, John Leguizamo, Denis L...  United States   \n",
       "3  Darren Criss, Adam Lambert, Derek Hough, Alexa...            NaN   \n",
       "4              Jacques Yves Cousteau, Vincent Cassel  United States   \n",
       "\n",
       "  date_added  release_year rating                  listed_in  \\\n",
       "0 2021-11-26          2016   TV-G          Animation, Family   \n",
       "1 2021-11-26          1988     PG                     Comedy   \n",
       "2 2021-11-26          2011   TV-G  Animation, Comedy, Family   \n",
       "3 2021-11-26          2021  TV-PG                    Musical   \n",
       "4 2021-11-24          2021  PG-13  Biographical, Documentary   \n",
       "\n",
       "                                         description  Duration (minutes)  \n",
       "0   Join Mickey and the gang as they duck the halls!                  23  \n",
       "1  Santa Claus passes his magic bag to a new St. ...                  91  \n",
       "2          Sid the Sloth is on Santa's naughty list.                  23  \n",
       "3               This is real life, not just fantasy!                  41  \n",
       "4  An inside look at the legendary life of advent...                  94  "
      ]
     },
     "execution_count": 18,
     "metadata": {},
     "output_type": "execute_result"
    }
   ],
   "source": [
    "# Add code here to answer this question\n",
    "movies_disney_data_clean.head()"
   ]
  },
  {
   "cell_type": "markdown",
   "metadata": {},
   "source": [
    "Again we need to explode the 'listed_in' column so we can can properly analyse the data. We will also dump the extra columns that we dont need for this piece of analysis"
   ]
  },
  {
   "cell_type": "code",
   "execution_count": 19,
   "metadata": {},
   "outputs": [
    {
     "data": {
      "text/html": [
       "<div>\n",
       "<style scoped>\n",
       "    .dataframe tbody tr th:only-of-type {\n",
       "        vertical-align: middle;\n",
       "    }\n",
       "\n",
       "    .dataframe tbody tr th {\n",
       "        vertical-align: top;\n",
       "    }\n",
       "\n",
       "    .dataframe thead th {\n",
       "        text-align: right;\n",
       "    }\n",
       "</style>\n",
       "<table border=\"1\" class=\"dataframe\">\n",
       "  <thead>\n",
       "    <tr style=\"text-align: right;\">\n",
       "      <th></th>\n",
       "      <th>title</th>\n",
       "      <th>date_added</th>\n",
       "      <th>Duration (minutes)</th>\n",
       "      <th>Genre</th>\n",
       "    </tr>\n",
       "  </thead>\n",
       "  <tbody>\n",
       "    <tr>\n",
       "      <th>0</th>\n",
       "      <td>Duck the Halls: A Mickey Mouse Christmas Special</td>\n",
       "      <td>2021-11-26</td>\n",
       "      <td>23</td>\n",
       "      <td>Animation</td>\n",
       "    </tr>\n",
       "    <tr>\n",
       "      <th>1</th>\n",
       "      <td>Duck the Halls: A Mickey Mouse Christmas Special</td>\n",
       "      <td>2021-11-26</td>\n",
       "      <td>23</td>\n",
       "      <td>Family</td>\n",
       "    </tr>\n",
       "    <tr>\n",
       "      <th>2</th>\n",
       "      <td>Ernest Saves Christmas</td>\n",
       "      <td>2021-11-26</td>\n",
       "      <td>91</td>\n",
       "      <td>Comedy</td>\n",
       "    </tr>\n",
       "    <tr>\n",
       "      <th>3</th>\n",
       "      <td>Ice Age: A Mammoth Christmas</td>\n",
       "      <td>2021-11-26</td>\n",
       "      <td>23</td>\n",
       "      <td>Animation</td>\n",
       "    </tr>\n",
       "    <tr>\n",
       "      <th>4</th>\n",
       "      <td>Ice Age: A Mammoth Christmas</td>\n",
       "      <td>2021-11-26</td>\n",
       "      <td>23</td>\n",
       "      <td>Comedy</td>\n",
       "    </tr>\n",
       "  </tbody>\n",
       "</table>\n",
       "</div>"
      ],
      "text/plain": [
       "                                              title date_added  \\\n",
       "0  Duck the Halls: A Mickey Mouse Christmas Special 2021-11-26   \n",
       "1  Duck the Halls: A Mickey Mouse Christmas Special 2021-11-26   \n",
       "2                            Ernest Saves Christmas 2021-11-26   \n",
       "3                      Ice Age: A Mammoth Christmas 2021-11-26   \n",
       "4                      Ice Age: A Mammoth Christmas 2021-11-26   \n",
       "\n",
       "   Duration (minutes)      Genre  \n",
       "0                  23  Animation  \n",
       "1                  23     Family  \n",
       "2                  91     Comedy  \n",
       "3                  23  Animation  \n",
       "4                  23     Comedy  "
      ]
     },
     "execution_count": 19,
     "metadata": {},
     "output_type": "execute_result"
    }
   ],
   "source": [
    "movie_genre_df = movies_disney_data_clean[['title','date_added', 'listed_in', 'Duration (minutes)']].assign(Genre=movies_disney_data_clean['listed_in'].str.split(',')).explode('Genre')\n",
    "movie_genre_df = movie_genre_df.drop(columns='listed_in')\n",
    "movie_genre_df.reset_index(drop=True, inplace=True)\n",
    "movie_genre_df.head()"
   ]
  },
  {
   "cell_type": "code",
   "execution_count": 20,
   "metadata": {},
   "outputs": [
    {
     "data": {
      "text/html": [
       "<div>\n",
       "<style scoped>\n",
       "    .dataframe tbody tr th:only-of-type {\n",
       "        vertical-align: middle;\n",
       "    }\n",
       "\n",
       "    .dataframe tbody tr th {\n",
       "        vertical-align: top;\n",
       "    }\n",
       "\n",
       "    .dataframe thead th {\n",
       "        text-align: right;\n",
       "    }\n",
       "</style>\n",
       "<table border=\"1\" class=\"dataframe\">\n",
       "  <thead>\n",
       "    <tr style=\"text-align: right;\">\n",
       "      <th></th>\n",
       "      <th>title</th>\n",
       "      <th>date_added</th>\n",
       "      <th>Duration (minutes)</th>\n",
       "      <th>Genre</th>\n",
       "    </tr>\n",
       "  </thead>\n",
       "  <tbody>\n",
       "    <tr>\n",
       "      <th>760</th>\n",
       "      <td>Hello, Dolly!</td>\n",
       "      <td>2020-05-22</td>\n",
       "      <td>147</td>\n",
       "      <td>Comedy</td>\n",
       "    </tr>\n",
       "    <tr>\n",
       "      <th>2483</th>\n",
       "      <td>The Parent Trap</td>\n",
       "      <td>2019-11-12</td>\n",
       "      <td>129</td>\n",
       "      <td>Comedy</td>\n",
       "    </tr>\n",
       "    <tr>\n",
       "      <th>2486</th>\n",
       "      <td>The Parent Trap (1961)</td>\n",
       "      <td>2019-11-12</td>\n",
       "      <td>129</td>\n",
       "      <td>Comedy</td>\n",
       "    </tr>\n",
       "    <tr>\n",
       "      <th>452</th>\n",
       "      <td>Dory's Reef Cam</td>\n",
       "      <td>2020-12-18</td>\n",
       "      <td>182</td>\n",
       "      <td>Animation</td>\n",
       "    </tr>\n",
       "    <tr>\n",
       "      <th>448</th>\n",
       "      <td>Arendelle Castle Yule Log</td>\n",
       "      <td>2020-12-18</td>\n",
       "      <td>180</td>\n",
       "      <td>Animation</td>\n",
       "    </tr>\n",
       "    <tr>\n",
       "      <th>1466</th>\n",
       "      <td>Fantasia</td>\n",
       "      <td>2019-11-12</td>\n",
       "      <td>126</td>\n",
       "      <td>Animation</td>\n",
       "    </tr>\n",
       "    <tr>\n",
       "      <th>321</th>\n",
       "      <td>Oklahoma!</td>\n",
       "      <td>2021-04-30</td>\n",
       "      <td>148</td>\n",
       "      <td>Musical</td>\n",
       "    </tr>\n",
       "    <tr>\n",
       "      <th>6</th>\n",
       "      <td>The Queen Family Singalong</td>\n",
       "      <td>2021-11-26</td>\n",
       "      <td>41</td>\n",
       "      <td>Musical</td>\n",
       "    </tr>\n",
       "  </tbody>\n",
       "</table>\n",
       "</div>"
      ],
      "text/plain": [
       "                           title date_added Duration (minutes)      Genre\n",
       "760                Hello, Dolly! 2020-05-22                147     Comedy\n",
       "2483             The Parent Trap 2019-11-12                129     Comedy\n",
       "2486      The Parent Trap (1961) 2019-11-12                129     Comedy\n",
       "452              Dory's Reef Cam 2020-12-18                182  Animation\n",
       "448    Arendelle Castle Yule Log 2020-12-18                180  Animation\n",
       "1466                    Fantasia 2019-11-12                126  Animation\n",
       "321                    Oklahoma! 2021-04-30                148    Musical\n",
       "6     The Queen Family Singalong 2021-11-26                 41    Musical"
      ]
     },
     "execution_count": 20,
     "metadata": {},
     "output_type": "execute_result"
    }
   ],
   "source": [
    "genre_to_analyse = ['Comedy', 'Animation', 'Musical']\n",
    "\n",
    "longest_movie_df = pd.DataFrame(columns=movie_genre_df.columns)\n",
    "\n",
    "for item in genre_to_analyse:\n",
    "    temp = movie_genre_df[movie_genre_df['Genre'] == item]\n",
    "    top_3_index = temp['Duration (minutes)'].nlargest(3).index\n",
    "    top_3 = temp.loc[top_3_index]\n",
    "    longest_movie_df = pd.concat([longest_movie_df,top_3], axis = 0)\n",
    "\n",
    "longest_movie_df.head(10)"
   ]
  },
  {
   "cell_type": "markdown",
   "metadata": {},
   "source": [
    "## 3. Convert some of the columns into a numerical representation and investigate any relationships between the data. What do the results sugggest? (15 marks)"
   ]
  },
  {
   "cell_type": "code",
   "execution_count": 21,
   "metadata": {},
   "outputs": [
    {
     "data": {
      "text/html": [
       "<div>\n",
       "<style scoped>\n",
       "    .dataframe tbody tr th:only-of-type {\n",
       "        vertical-align: middle;\n",
       "    }\n",
       "\n",
       "    .dataframe tbody tr th {\n",
       "        vertical-align: top;\n",
       "    }\n",
       "\n",
       "    .dataframe thead th {\n",
       "        text-align: right;\n",
       "    }\n",
       "</style>\n",
       "<table border=\"1\" class=\"dataframe\">\n",
       "  <thead>\n",
       "    <tr style=\"text-align: right;\">\n",
       "      <th></th>\n",
       "      <th>title</th>\n",
       "      <th>director</th>\n",
       "      <th>cast</th>\n",
       "      <th>country</th>\n",
       "      <th>date_added</th>\n",
       "      <th>release_year</th>\n",
       "      <th>rating</th>\n",
       "      <th>listed_in</th>\n",
       "      <th>description</th>\n",
       "      <th>Duration (minutes)</th>\n",
       "    </tr>\n",
       "  </thead>\n",
       "  <tbody>\n",
       "    <tr>\n",
       "      <th>0</th>\n",
       "      <td>Duck the Halls: A Mickey Mouse Christmas Special</td>\n",
       "      <td>Alonso Ramirez Ramos, Dave Wasson</td>\n",
       "      <td>Chris Diamantopoulos, Tony Anselmo, Tress MacN...</td>\n",
       "      <td>NaN</td>\n",
       "      <td>2021-11-26</td>\n",
       "      <td>2016</td>\n",
       "      <td>TV-G</td>\n",
       "      <td>Animation, Family</td>\n",
       "      <td>Join Mickey and the gang as they duck the halls!</td>\n",
       "      <td>23</td>\n",
       "    </tr>\n",
       "    <tr>\n",
       "      <th>1</th>\n",
       "      <td>Ernest Saves Christmas</td>\n",
       "      <td>John Cherry</td>\n",
       "      <td>Jim Varney, Noelle Parker, Douglas Seale</td>\n",
       "      <td>NaN</td>\n",
       "      <td>2021-11-26</td>\n",
       "      <td>1988</td>\n",
       "      <td>PG</td>\n",
       "      <td>Comedy</td>\n",
       "      <td>Santa Claus passes his magic bag to a new St. ...</td>\n",
       "      <td>91</td>\n",
       "    </tr>\n",
       "    <tr>\n",
       "      <th>2</th>\n",
       "      <td>Ice Age: A Mammoth Christmas</td>\n",
       "      <td>Karen Disher</td>\n",
       "      <td>Raymond Albert Romano, John Leguizamo, Denis L...</td>\n",
       "      <td>United States</td>\n",
       "      <td>2021-11-26</td>\n",
       "      <td>2011</td>\n",
       "      <td>TV-G</td>\n",
       "      <td>Animation, Comedy, Family</td>\n",
       "      <td>Sid the Sloth is on Santa's naughty list.</td>\n",
       "      <td>23</td>\n",
       "    </tr>\n",
       "    <tr>\n",
       "      <th>3</th>\n",
       "      <td>The Queen Family Singalong</td>\n",
       "      <td>Hamish Hamilton</td>\n",
       "      <td>Darren Criss, Adam Lambert, Derek Hough, Alexa...</td>\n",
       "      <td>NaN</td>\n",
       "      <td>2021-11-26</td>\n",
       "      <td>2021</td>\n",
       "      <td>TV-PG</td>\n",
       "      <td>Musical</td>\n",
       "      <td>This is real life, not just fantasy!</td>\n",
       "      <td>41</td>\n",
       "    </tr>\n",
       "    <tr>\n",
       "      <th>4</th>\n",
       "      <td>Becoming Cousteau</td>\n",
       "      <td>Liz Garbus</td>\n",
       "      <td>Jacques Yves Cousteau, Vincent Cassel</td>\n",
       "      <td>United States</td>\n",
       "      <td>2021-11-24</td>\n",
       "      <td>2021</td>\n",
       "      <td>PG-13</td>\n",
       "      <td>Biographical, Documentary</td>\n",
       "      <td>An inside look at the legendary life of advent...</td>\n",
       "      <td>94</td>\n",
       "    </tr>\n",
       "  </tbody>\n",
       "</table>\n",
       "</div>"
      ],
      "text/plain": [
       "                                              title  \\\n",
       "0  Duck the Halls: A Mickey Mouse Christmas Special   \n",
       "1                            Ernest Saves Christmas   \n",
       "2                      Ice Age: A Mammoth Christmas   \n",
       "3                        The Queen Family Singalong   \n",
       "4                                 Becoming Cousteau   \n",
       "\n",
       "                            director  \\\n",
       "0  Alonso Ramirez Ramos, Dave Wasson   \n",
       "1                        John Cherry   \n",
       "2                       Karen Disher   \n",
       "3                    Hamish Hamilton   \n",
       "4                         Liz Garbus   \n",
       "\n",
       "                                                cast        country  \\\n",
       "0  Chris Diamantopoulos, Tony Anselmo, Tress MacN...            NaN   \n",
       "1           Jim Varney, Noelle Parker, Douglas Seale            NaN   \n",
       "2  Raymond Albert Romano, John Leguizamo, Denis L...  United States   \n",
       "3  Darren Criss, Adam Lambert, Derek Hough, Alexa...            NaN   \n",
       "4              Jacques Yves Cousteau, Vincent Cassel  United States   \n",
       "\n",
       "  date_added  release_year rating                  listed_in  \\\n",
       "0 2021-11-26          2016   TV-G          Animation, Family   \n",
       "1 2021-11-26          1988     PG                     Comedy   \n",
       "2 2021-11-26          2011   TV-G  Animation, Comedy, Family   \n",
       "3 2021-11-26          2021  TV-PG                    Musical   \n",
       "4 2021-11-24          2021  PG-13  Biographical, Documentary   \n",
       "\n",
       "                                         description  Duration (minutes)  \n",
       "0   Join Mickey and the gang as they duck the halls!                  23  \n",
       "1  Santa Claus passes his magic bag to a new St. ...                  91  \n",
       "2          Sid the Sloth is on Santa's naughty list.                  23  \n",
       "3               This is real life, not just fantasy!                  41  \n",
       "4  An inside look at the legendary life of advent...                  94  "
      ]
     },
     "execution_count": 21,
     "metadata": {},
     "output_type": "execute_result"
    }
   ],
   "source": [
    "movies_disney_data_clean.head()"
   ]
  },
  {
   "cell_type": "code",
   "execution_count": 22,
   "metadata": {},
   "outputs": [
    {
     "data": {
      "text/plain": [
       "array(['TV-G', 'PG', 'TV-PG', 'PG-13', 'G', 'TV-14', 'TV-Y', 'TV-Y7-FV',\n",
       "       'TV-Y7'], dtype=object)"
      ]
     },
     "execution_count": 22,
     "metadata": {},
     "output_type": "execute_result"
    }
   ],
   "source": [
    "movies_disney_data_clean['rating'].unique()"
   ]
  },
  {
   "cell_type": "markdown",
   "metadata": {},
   "source": [
    "Following a quick google search I have categorised the ratings into family friendly or not, items that are not friendly include TV-Y7-FV, which is used to indicate that a program contains “fantasy violence” that may be more intense or combative than other TV-Y7 programs, where TV-Y7 indicates that programming is designed for children ages 7 and older.."
   ]
  },
  {
   "cell_type": "code",
   "execution_count": 26,
   "metadata": {},
   "outputs": [],
   "source": [
    "movies_disney_data_clean['IsAmerican?'] = (movies_disney_data_clean['country'].str.contains('United States'))\n",
    "movies_disney_data_clean['IsAmerican?'] = (movies_disney_data_clean['IsAmerican?'] .fillna(0)).astype(int)\n",
    "movies_disney_data_clean['Released_2000_onward?'] = (movies_disney_data_clean['release_year'] > 1999).astype(int)\n",
    "movies_disney_data_clean['IsFamilyFriendly?'] = (movies_disney_data_clean['rating'].isin(['TV-G', 'PG', 'TV-PG', 'G', 'TV-Y'])).astype(int)\n",
    "movies_disney_data_clean['Description_over_50_char?'] = (movies_disney_data_clean['description'].str.len() > 50).astype(int)"
   ]
  },
  {
   "cell_type": "code",
   "execution_count": 27,
   "metadata": {},
   "outputs": [
    {
     "data": {
      "text/html": [
       "<div>\n",
       "<style scoped>\n",
       "    .dataframe tbody tr th:only-of-type {\n",
       "        vertical-align: middle;\n",
       "    }\n",
       "\n",
       "    .dataframe tbody tr th {\n",
       "        vertical-align: top;\n",
       "    }\n",
       "\n",
       "    .dataframe thead th {\n",
       "        text-align: right;\n",
       "    }\n",
       "</style>\n",
       "<table border=\"1\" class=\"dataframe\">\n",
       "  <thead>\n",
       "    <tr style=\"text-align: right;\">\n",
       "      <th></th>\n",
       "      <th>release_year</th>\n",
       "      <th>Duration (minutes)</th>\n",
       "      <th>IsAmerican?</th>\n",
       "      <th>Released_2000_onward?</th>\n",
       "      <th>IsFamilyFriendly?</th>\n",
       "      <th>Description_over_50_char?</th>\n",
       "    </tr>\n",
       "  </thead>\n",
       "  <tbody>\n",
       "    <tr>\n",
       "      <th>0</th>\n",
       "      <td>2016</td>\n",
       "      <td>23</td>\n",
       "      <td>0</td>\n",
       "      <td>1</td>\n",
       "      <td>1</td>\n",
       "      <td>0</td>\n",
       "    </tr>\n",
       "    <tr>\n",
       "      <th>1</th>\n",
       "      <td>1988</td>\n",
       "      <td>91</td>\n",
       "      <td>0</td>\n",
       "      <td>0</td>\n",
       "      <td>1</td>\n",
       "      <td>0</td>\n",
       "    </tr>\n",
       "    <tr>\n",
       "      <th>2</th>\n",
       "      <td>2011</td>\n",
       "      <td>23</td>\n",
       "      <td>1</td>\n",
       "      <td>1</td>\n",
       "      <td>1</td>\n",
       "      <td>0</td>\n",
       "    </tr>\n",
       "    <tr>\n",
       "      <th>3</th>\n",
       "      <td>2021</td>\n",
       "      <td>41</td>\n",
       "      <td>0</td>\n",
       "      <td>1</td>\n",
       "      <td>1</td>\n",
       "      <td>0</td>\n",
       "    </tr>\n",
       "    <tr>\n",
       "      <th>4</th>\n",
       "      <td>2021</td>\n",
       "      <td>94</td>\n",
       "      <td>1</td>\n",
       "      <td>1</td>\n",
       "      <td>0</td>\n",
       "      <td>1</td>\n",
       "    </tr>\n",
       "  </tbody>\n",
       "</table>\n",
       "</div>"
      ],
      "text/plain": [
       "   release_year  Duration (minutes)  IsAmerican?  Released_2000_onward?  \\\n",
       "0          2016                  23            0                      1   \n",
       "1          1988                  91            0                      0   \n",
       "2          2011                  23            1                      1   \n",
       "3          2021                  41            0                      1   \n",
       "4          2021                  94            1                      1   \n",
       "\n",
       "   IsFamilyFriendly?  Description_over_50_char?  \n",
       "0                  1                          0  \n",
       "1                  1                          0  \n",
       "2                  1                          0  \n",
       "3                  1                          0  \n",
       "4                  0                          1  "
      ]
     },
     "execution_count": 27,
     "metadata": {},
     "output_type": "execute_result"
    }
   ],
   "source": [
    "numerical_columns = movies_disney_data_clean.select_dtypes(include=['number'])\n",
    "numerical_columns.head()"
   ]
  },
  {
   "cell_type": "code",
   "execution_count": 28,
   "metadata": {},
   "outputs": [
    {
     "data": {
      "text/plain": [
       "<Axes: >"
      ]
     },
     "execution_count": 28,
     "metadata": {},
     "output_type": "execute_result"
    },
    {
     "data": {
      "image/png": "[encoded data removed]",
      "text/plain": [
       "<Figure size 640x480 with 2 Axes>"
      ]
     },
     "metadata": {},
     "output_type": "display_data"
    }
   ],
   "source": [
    "sns.heatmap(numerical_columns.corr(),cmap='coolwarm')"
   ]
  },
  {
   "cell_type": "markdown",
   "metadata": {},
   "source": [
    "This suggests that the majority of our movies are released from the 2000s onwards, which we will now investigate with a line graph. To do this we will convert the years so that they represent the decade they were released in, and then we will plot this."
   ]
  },
  {
   "cell_type": "code",
   "execution_count": 29,
   "metadata": {},
   "outputs": [
    {
     "data": {
      "text/plain": [
       "Decade_released\n",
       "1920      1\n",
       "1930     36\n",
       "1940     41\n",
       "1950     48\n",
       "1960     29\n",
       "1970     33\n",
       "1980     41\n",
       "1990    109\n",
       "2000    243\n",
       "2010    326\n",
       "2020    144\n",
       "Name: count, dtype: int64"
      ]
     },
     "execution_count": 29,
     "metadata": {},
     "output_type": "execute_result"
    }
   ],
   "source": [
    "def year_to_decade(year):\n",
    "    return year // 10 * 10\n",
    "\n",
    "movies_disney_data_clean['Decade_released'] = movies_disney_data_clean['release_year'].apply(year_to_decade)\n",
    "year_counts = movies_disney_data_clean['Decade_released'].value_counts()\n",
    "sorted_year_counts = year_counts.sort_index(ascending=True)\n",
    "sorted_year_counts"
   ]
  },
  {
   "cell_type": "code",
   "execution_count": 30,
   "metadata": {},
   "outputs": [
    {
     "data": {
      "image/png": "[encoded data removed]",
      "text/plain": [
       "<Figure size 640x480 with 1 Axes>"
      ]
     },
     "metadata": {},
     "output_type": "display_data"
    }
   ],
   "source": [
    "sorted_year_counts.plot(kind='line', marker = 'o')\n",
    "\n",
    "plt.xlabel('Year')\n",
    "plt.ylabel('Number of Movies')\n",
    "plt.title('Deacdes')\n",
    "\n",
    "plt.show()"
   ]
  },
  {
   "cell_type": "markdown",
   "metadata": {},
   "source": [
    "This supports what the correlation suggested, that the majority of movies were produced after 2000."
   ]
  }
 ],
 "metadata": {
  "kernelspec": {
   "display_name": "Python 3 (ipykernel)",
   "language": "python",
   "name": "python3"
  },
  "language_info": {
   "codemirror_mode": {
    "name": "ipython",
    "version": 3
   },
   "file_extension": ".py",
   "mimetype": "text/x-python",
   "name": "python",
   "nbconvert_exporter": "python",
   "pygments_lexer": "ipython3",
   "version": "3.11.5"
  },
  "vscode": {
   "interpreter": {
    "hash": "c24ecc2928a1df641fb89905a028e959d05eac4f79c1af53f0bb766b01409011"
   }
  }
 },
 "nbformat": 4,
 "nbformat_minor": 1
}
